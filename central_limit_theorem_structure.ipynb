{
  "cells": [
    {
      "cell_type": "markdown",
      "metadata": {
        "colab_type": "text",
        "id": "view-in-github"
      },
      "source": [
        "<a href=\"https://colab.research.google.com/github/JacquelineBashta/Statistics_4_ML/blob/main/central_limit_theorem_structure.ipynb\" target=\"_parent\"><img src=\"https://colab.research.google.com/assets/colab-badge.svg\" alt=\"Open In Colab\"/></a>"
      ]
    },
    {
      "cell_type": "markdown",
      "metadata": {
        "id": "gQ6c1Mj50zGg"
      },
      "source": [
        "# Central Limit Theorem"
      ]
    },
    {
      "cell_type": "markdown",
      "metadata": {
        "id": "FnMPwGLE0zGi"
      },
      "source": [
        "Sources: \n",
        "\n",
        "* \"Naked statistics\" by  Charles J. Wheelan"
      ]
    },
    {
      "cell_type": "markdown",
      "metadata": {
        "id": "9tKBp_vh0zGj"
      },
      "source": [
        "**A core principle underlying the central limit theorem is that a large, properly drawn sample will resemble the population from which it is drawn.**"
      ]
    },
    {
      "cell_type": "markdown",
      "metadata": {
        "id": "bg6CaGiS0zGj"
      },
      "source": [
        "The central limit theorem enables us to make the following inferences: \n",
        "\n",
        "* If we have detailed information about some population, then we can make inferences about any properly drawn sample from that population. \n",
        "* If we have detailed information about a properly drawn sample (mean and standard deviation), we can make accurate inferences about the population from which that sample was drawn. The central limit tells us that a large sample will not typically deviate  a lot from its population.\n",
        "* The central limit theorem allows us to calculate the probability that a particular sample was drawn from a given population. If that probability is low, then we  can conclude with a high degree of confidence that the sample was not drown from the population in question.\n",
        "* If we know the underlying characteristics of two samples, we can infer whether or not both samples were likley drawn from the same population."
      ]
    },
    {
      "cell_type": "code",
      "execution_count": 1,
      "metadata": {
        "id": "qBfSSRjJ0zGk"
      },
      "outputs": [],
      "source": [
        "import numpy as np\n",
        "import pandas as pd\n",
        "import scipy.stats as stats\n",
        "import random\n",
        "import matplotlib.pyplot as plt"
      ]
    },
    {
      "cell_type": "markdown",
      "metadata": {
        "id": "nIM1MyKbQP93"
      },
      "source": [
        "## Looking at the CLT with simulated data"
      ]
    },
    {
      "cell_type": "markdown",
      "metadata": {
        "id": "vVFdjMIb0zGk"
      },
      "source": [
        "### The normal distribution\n",
        "\n",
        "It is a theoretical distribution defined by mathematical properties.\n",
        "\n",
        "It is a bell shaped-shaped distribution in which:\n",
        "* 68 percent of the observations lie within one standard deviation of the mean\n",
        "* 95 percent lies within two standard deviations\n",
        "\n",
        "We can simulate the normal distribution by generating numbers with `stats.norm.rvs`."
      ]
    },
    {
      "cell_type": "code",
      "execution_count": 2,
      "metadata": {
        "colab": {
          "base_uri": "https://localhost:8080/",
          "height": 265
        },
        "id": "kXXQqwrv0zGk",
        "outputId": "8b9950f6-de84-49b7-c5ca-856c6b6d18d1"
      },
      "outputs": [
        {
          "data": {
            "image/png": "[encoded data removed]",
            "text/plain": [
              "<Figure size 640x480 with 1 Axes>"
            ]
          },
          "metadata": {},
          "output_type": "display_data"
        }
      ],
      "source": [
        "norm_dist = stats.norm.rvs(loc=0, \n",
        "                           scale=1, \n",
        "                           size=100000,\n",
        "                           random_state=124\n",
        "                          )\n",
        "norm_dist = pd.Series(norm_dist)\n",
        "norm_dist.hist(bins=30);"
      ]
    },
    {
      "cell_type": "markdown",
      "metadata": {
        "id": "P_sTwrH3ypd6"
      },
      "source": [
        "#### Percentage of the simulated data that falls between the standard deviations#"
      ]
    },
    {
      "cell_type": "markdown",
      "metadata": {
        "id": "FCRQsdr3y8Y0"
      },
      "source": [
        "Mean of the normal distribution"
      ]
    },
    {
      "cell_type": "code",
      "execution_count": 5,
      "metadata": {},
      "outputs": [
        {
          "data": {
            "text/plain": [
              "-0.0035006533402079858"
            ]
          },
          "execution_count": 5,
          "metadata": {},
          "output_type": "execute_result"
        }
      ],
      "source": [
        "mean_norm_1=norm_dist.mean()\n",
        "mean_norm_1"
      ]
    },
    {
      "cell_type": "code",
      "execution_count": 3,
      "metadata": {
        "colab": {
          "base_uri": "https://localhost:8080/"
        },
        "id": "axMYA9ai0zGl",
        "outputId": "a60dafd0-5f26-48db-cadc-e0402dc62662"
      },
      "outputs": [
        {
          "data": {
            "text/plain": [
              "-0.0035006533402079858"
            ]
          },
          "execution_count": 3,
          "metadata": {},
          "output_type": "execute_result"
        }
      ],
      "source": [
        "mean_norm = np.mean(norm_dist)\n",
        "mean_norm"
      ]
    },
    {
      "cell_type": "markdown",
      "metadata": {
        "id": "jBn-f1MFzCl9"
      },
      "source": [
        "Standard deviation of the normal distribution"
      ]
    },
    {
      "cell_type": "code",
      "execution_count": 7,
      "metadata": {},
      "outputs": [
        {
          "data": {
            "text/plain": [
              "0.997384616890263"
            ]
          },
          "execution_count": 7,
          "metadata": {},
          "output_type": "execute_result"
        }
      ],
      "source": [
        "#Via Pandas (ddof=1 by default)\n",
        "std_norm_1= norm_dist.std()\n",
        "std_norm_1"
      ]
    },
    {
      "cell_type": "code",
      "execution_count": 9,
      "metadata": {
        "colab": {
          "base_uri": "https://localhost:8080/"
        },
        "id": "OJa1VTU70zGl",
        "outputId": "afab3831-08db-4988-a7c2-7e828508d783"
      },
      "outputs": [
        {
          "data": {
            "text/plain": [
              "0.997384616890263"
            ]
          },
          "execution_count": 9,
          "metadata": {},
          "output_type": "execute_result"
        }
      ],
      "source": [
        "#Via numpy (ddof=0 by default)\n",
        "std_norm = np.std(norm_dist\n",
        "                  ,ddof=1\n",
        "                  )\n",
        "std_norm"
      ]
    },
    {
      "cell_type": "markdown",
      "metadata": {
        "id": "1PhZToNgzIAu"
      },
      "source": [
        "Our lower boundary for 68% of the data - mean minus the standard deviation"
      ]
    },
    {
      "cell_type": "code",
      "execution_count": 45,
      "metadata": {
        "colab": {
          "base_uri": "https://localhost:8080/"
        },
        "id": "rt0VY26x0zGm",
        "outputId": "86d3d89a-f8ed-4ea0-c408-4dceae786c66"
      },
      "outputs": [
        {
          "data": {
            "text/plain": [
              "-1.000880283294919"
            ]
          },
          "execution_count": 45,
          "metadata": {},
          "output_type": "execute_result"
        }
      ],
      "source": [
        "sigma_negative = mean_norm - std_norm\n",
        "sigma_negative"
      ]
    },
    {
      "cell_type": "markdown",
      "metadata": {
        "id": "7cjx96FHzQWa"
      },
      "source": [
        "Our upper boundary for 68% of the data - mean plus the standard deviation"
      ]
    },
    {
      "cell_type": "code",
      "execution_count": 46,
      "metadata": {
        "colab": {
          "base_uri": "https://localhost:8080/"
        },
        "id": "EcTn8OqH0zGm",
        "outputId": "c26584cb-f657-4725-e43b-829b6f9883f6"
      },
      "outputs": [
        {
          "data": {
            "text/plain": [
              "0.9938789766145032"
            ]
          },
          "execution_count": 46,
          "metadata": {},
          "output_type": "execute_result"
        }
      ],
      "source": [
        "# find out the 1 standard deviation\n",
        "sigma_positive = mean_norm + std_norm\n",
        "sigma_positive"
      ]
    },
    {
      "cell_type": "markdown",
      "metadata": {
        "id": "TmQgvuGfzlMl"
      },
      "source": [
        "Plotting our boundaries on our simulated data\n",
        "* red lines are one standard deviation - our boundaries for 68% of the data\n",
        "* green lines are two standard deviations - our boundaries for 95% of the data"
      ]
    },
    {
      "cell_type": "code",
      "execution_count": 47,
      "metadata": {
        "colab": {
          "base_uri": "https://localhost:8080/",
          "height": 281
        },
        "id": "xbnyytsL0zGn",
        "outputId": "edf09869-ce77-4b62-edfa-2796ca4d67ba"
      },
      "outputs": [
        {
          "data": {
            "image/png": "[encoded data removed]",
            "text/plain": [
              "<Figure size 432x288 with 1 Axes>"
            ]
          },
          "metadata": {
            "needs_background": "light"
          },
          "output_type": "display_data"
        }
      ],
      "source": [
        "# plot the normal distribution\n",
        "plt.hist(norm_dist, bins=30)\n",
        "\n",
        "# represent the -1 standard deviation\n",
        "plt.axvline(sigma_negative, color = 'r')\n",
        "plt.axvline(sigma_negative*2, color = 'g')\n",
        "\n",
        "# represent the 1 standard deviation\n",
        "plt.axvline(sigma_positive, color = 'r')\n",
        "plt.axvline(sigma_positive*2, color = 'g')\n",
        "\n",
        "plt.title('Representing a normal distribution')\n",
        "plt.show()"
      ]
    },
    {
      "cell_type": "markdown",
      "metadata": {
        "id": "E6B0_lAH0zGn"
      },
      "source": [
        "What proportion of our `norm_dist` falls within 1 standard deviation from the mean?"
      ]
    },
    {
      "cell_type": "code",
      "execution_count": 50,
      "metadata": {
        "colab": {
          "base_uri": "https://localhost:8080/"
        },
        "id": "T3UE523V0zGn",
        "outputId": "8d72b4a4-c372-4edc-d61e-3d73ac570304"
      },
      "outputs": [
        {
          "name": "stdout",
          "output_type": "stream",
          "text": [
            "68.15% lies within one standard deviation of the mean\n"
          ]
        }
      ],
      "source": [
        "sigma_plus = len(norm_dist[(norm_dist > sigma_negative) \n",
        "                          &(norm_dist < sigma_positive)])\n",
        "\n",
        "perc_1_std = sigma_plus/len(norm_dist)\n",
        "\n",
        "print(f\"{round(perc_1_std * 100, 2)}% lies within one standard deviation of the mean\")"
      ]
    },
    {
      "cell_type": "markdown",
      "metadata": {
        "id": "TKDJzC5yTre9"
      },
      "source": [
        "What proportion of our `norm_dist` falls beyond 1 standard deviation from the mean?"
      ]
    },
    {
      "cell_type": "code",
      "execution_count": 51,
      "metadata": {
        "colab": {
          "base_uri": "https://localhost:8080/"
        },
        "id": "cZb6qvCUTng0",
        "outputId": "3f260997-fb7c-45ab-8a0e-2767543d8b1a"
      },
      "outputs": [
        {
          "name": "stdout",
          "output_type": "stream",
          "text": [
            "31.85% falls outside of one standard deviation of the mean\n"
          ]
        }
      ],
      "source": [
        "sigma_plus_inverted = len(norm_dist[(norm_dist < sigma_negative) \n",
        "                                   |(norm_dist > sigma_positive)])\n",
        "\n",
        "out_1_std = sigma_plus_inverted / len(norm_dist)\n",
        "\n",
        "print(f\"{round(out_1_std * 100, 2)}% falls outside of one standard deviation of the mean\")"
      ]
    },
    {
      "attachments": {},
      "cell_type": "markdown",
      "metadata": {
        "id": "RRB48gZm0zGo"
      },
      "source": [
        "What proportion of our `norm_dist` falls beyond two standard deviations of the mean? And beyond three?"
      ]
    },
    {
      "cell_type": "code",
      "execution_count": 52,
      "metadata": {
        "colab": {
          "base_uri": "https://localhost:8080/"
        },
        "id": "ck33TTzKjBBY",
        "outputId": "799e99f8-1ef6-4e45-fd5e-89d63df19a34"
      },
      "outputs": [
        {
          "name": "stdout",
          "output_type": "stream",
          "text": [
            "4.52% falls outside of two standard deviation of the mean\n"
          ]
        }
      ],
      "source": [
        "sigma_negative_2= mean_norm - (std_norm*2)\n",
        "sigma_positive_2= mean_norm + (std_norm*2)\n",
        "\n",
        "sigma_plus_2 = len(norm_dist[(norm_dist < (sigma_negative_2)) \n",
        "                                   |(norm_dist > (sigma_positive_2))])\n",
        "\n",
        "out_2_std = sigma_plus_2 / len(norm_dist)\n",
        "\n",
        "print(f\"{round(out_2_std * 100,2)}% falls outside of two standard deviation of the mean\")"
      ]
    },
    {
      "cell_type": "code",
      "execution_count": 53,
      "metadata": {
        "colab": {
          "base_uri": "https://localhost:8080/"
        },
        "id": "MeRPEjcvld5e",
        "outputId": "439cfb0f-6acb-4e34-d47e-5f7285b215c3"
      },
      "outputs": [
        {
          "name": "stdout",
          "output_type": "stream",
          "text": [
            "0.27% falls outside of three standard deviation of the mean\n"
          ]
        }
      ],
      "source": [
        "sigma_negative_3= mean_norm - (std_norm*3)\n",
        "sigma_positive_3= mean_norm + (std_norm*3)\n",
        "sigma_plus_3 = len(norm_dist[(norm_dist < (sigma_negative_3)) \n",
        "                                   |(norm_dist > (sigma_positive_3))])\n",
        "\n",
        "out_3_std = sigma_plus_3 / len(norm_dist)\n",
        "\n",
        "print(f\"{round(out_3_std * 100,2)}% falls outside of three standard deviation of the mean\")"
      ]
    },
    {
      "cell_type": "markdown",
      "metadata": {
        "id": "NY1B7dcE0zGr"
      },
      "source": [
        "## Looking at the CLT with an actual population\n",
        "\n",
        "Let's move from theoretical distributions to real populations. We generally do not have access to a whole population: we only have access to samples. We use these samples to make guesses about the population. In this exercise we _do_ have access to the population so that we can prove how to make those guesses, and how accurate they can be."
      ]
    },
    {
      "cell_type": "markdown",
      "metadata": {
        "id": "8qZkRv060zGr"
      },
      "source": [
        "Here's the distribution of our population, feel free to make up a story for the numbers"
      ]
    },
    {
      "cell_type": "code",
      "execution_count": 10,
      "metadata": {
        "colab": {
          "base_uri": "https://localhost:8080/",
          "height": 206
        },
        "id": "o8MZRYem0zGr",
        "outputId": "da8c45c1-d52c-4b0f-8cad-eead92933d7d"
      },
      "outputs": [
        {
          "data": {
            "text/html": [
              "<div>\n",
              "<style scoped>\n",
              "    .dataframe tbody tr th:only-of-type {\n",
              "        vertical-align: middle;\n",
              "    }\n",
              "\n",
              "    .dataframe tbody tr th {\n",
              "        vertical-align: top;\n",
              "    }\n",
              "\n",
              "    .dataframe thead th {\n",
              "        text-align: right;\n",
              "    }\n",
              "</style>\n",
              "<table border=\"1\" class=\"dataframe\">\n",
              "  <thead>\n",
              "    <tr style=\"text-align: right;\">\n",
              "      <th></th>\n",
              "      <th>0</th>\n",
              "    </tr>\n",
              "  </thead>\n",
              "  <tbody>\n",
              "    <tr>\n",
              "      <th>0</th>\n",
              "      <td>1.160131</td>\n",
              "    </tr>\n",
              "    <tr>\n",
              "      <th>1</th>\n",
              "      <td>0.222175</td>\n",
              "    </tr>\n",
              "    <tr>\n",
              "      <th>2</th>\n",
              "      <td>3.101406</td>\n",
              "    </tr>\n",
              "    <tr>\n",
              "      <th>3</th>\n",
              "      <td>0.758150</td>\n",
              "    </tr>\n",
              "    <tr>\n",
              "      <th>4</th>\n",
              "      <td>2.159439</td>\n",
              "    </tr>\n",
              "  </tbody>\n",
              "</table>\n",
              "</div>"
            ],
            "text/plain": [
              "          0\n",
              "0  1.160131\n",
              "1  0.222175\n",
              "2  3.101406\n",
              "3  0.758150\n",
              "4  2.159439"
            ]
          },
          "execution_count": 10,
          "metadata": {},
          "output_type": "execute_result"
        }
      ],
      "source": [
        "# population.csv\n",
        "url = 'https://drive.google.com/file/d/1jomahr4JUPi8lAO33_RB1I-1089feWg2/view?usp=sharing' \n",
        "path = 'https://drive.google.com/uc?export=download&id='+url.split('/')[-2]\n",
        "pop = pd.read_csv(path)\n",
        "pop.head()"
      ]
    },
    {
      "cell_type": "code",
      "execution_count": 55,
      "metadata": {
        "colab": {
          "base_uri": "https://localhost:8080/",
          "height": 435
        },
        "id": "ulO__Uhf0zGr",
        "outputId": "69404f09-71b3-4d4f-8265-fff3022c1ce2"
      },
      "outputs": [
        {
          "data": {
            "image/png": "[encoded data removed]",
            "text/plain": [
              "<Figure size 1440x720 with 1 Axes>"
            ]
          },
          "metadata": {
            "needs_background": "light"
          },
          "output_type": "display_data"
        }
      ],
      "source": [
        "pop.hist(bins=50, grid=False, color=\"#007398\", figsize=(20,10));\n",
        "plt.axvline(float(pop.mean()), linestyle=\"--\", color=\"#f8485e\");"
      ]
    },
    {
      "attachments": {},
      "cell_type": "markdown",
      "metadata": {
        "id": "EysaEVuo5T0X"
      },
      "source": [
        "Population mean"
      ]
    },
    {
      "cell_type": "code",
      "execution_count": 56,
      "metadata": {
        "colab": {
          "base_uri": "https://localhost:8080/"
        },
        "id": "FlAFDJYN0zGr",
        "outputId": "bbd29dbc-69e0-4fb5-8450-f3ccb382db4d"
      },
      "outputs": [
        {
          "data": {
            "text/plain": [
              "0    3.387146\n",
              "dtype: float64"
            ]
          },
          "execution_count": 56,
          "metadata": {},
          "output_type": "execute_result"
        }
      ],
      "source": [
        "pop_mean = pop.mean()\n",
        "pop_mean"
      ]
    },
    {
      "cell_type": "code",
      "execution_count": 57,
      "metadata": {
        "colab": {
          "base_uri": "https://localhost:8080/"
        },
        "id": "zEGO6MNwmrQj",
        "outputId": "80dc053c-b0d3-49cd-9b91-801ea2de2dbc"
      },
      "outputs": [
        {
          "data": {
            "text/plain": [
              "0    3.387146\n",
              "dtype: float64"
            ]
          },
          "execution_count": 57,
          "metadata": {},
          "output_type": "execute_result"
        }
      ],
      "source": [
        "x=np.mean(pop)\n",
        "x"
      ]
    },
    {
      "cell_type": "markdown",
      "metadata": {
        "id": "GgMxl8gZ5X1z"
      },
      "source": [
        "Population Standard Deviation"
      ]
    },
    {
      "cell_type": "code",
      "execution_count": 58,
      "metadata": {
        "colab": {
          "base_uri": "https://localhost:8080/"
        },
        "id": "KRL3HPDfmzWw",
        "outputId": "53ed87f0-9bcd-4979-eb75-ee5779cff382"
      },
      "outputs": [
        {
          "data": {
            "text/plain": [
              "0    2.438469\n",
              "dtype: float64"
            ]
          },
          "execution_count": 58,
          "metadata": {},
          "output_type": "execute_result"
        }
      ],
      "source": [
        "y=pop.std()\n",
        "y"
      ]
    },
    {
      "cell_type": "code",
      "execution_count": 59,
      "metadata": {
        "colab": {
          "base_uri": "https://localhost:8080/"
        },
        "id": "HVV9WKmh0zGr",
        "outputId": "6423397f-018d-4db4-da5f-2c30f1c1f217"
      },
      "outputs": [
        {
          "data": {
            "text/plain": [
              "0    2.438371\n",
              "dtype: float64"
            ]
          },
          "execution_count": 59,
          "metadata": {},
          "output_type": "execute_result"
        }
      ],
      "source": [
        "pop_std = np.std(pop)\n",
        "pop_std"
      ]
    },
    {
      "cell_type": "markdown",
      "metadata": {
        "id": "BL5ChtBe5bCx"
      },
      "source": [
        "Number of observations in our population"
      ]
    },
    {
      "cell_type": "code",
      "execution_count": 60,
      "metadata": {
        "colab": {
          "base_uri": "https://localhost:8080/"
        },
        "id": "v2vG77V10zGr",
        "outputId": "490d3189-da53-434f-9e8f-b1d010cb25b8"
      },
      "outputs": [
        {
          "data": {
            "text/plain": [
              "12500"
            ]
          },
          "execution_count": 60,
          "metadata": {},
          "output_type": "execute_result"
        }
      ],
      "source": [
        "len(pop)"
      ]
    },
    {
      "cell_type": "markdown",
      "metadata": {
        "id": "xx3VAlDD0zGs"
      },
      "source": [
        "Let's take a sample from our population:"
      ]
    },
    {
      "cell_type": "code",
      "execution_count": 61,
      "metadata": {
        "id": "UHEevCo80zGs"
      },
      "outputs": [],
      "source": [
        "sample = pop.sample(n=50\n",
        "                    , random_state=4321\n",
        "                    )"
      ]
    },
    {
      "cell_type": "markdown",
      "metadata": {
        "id": "s2WUKrKP5lnv"
      },
      "source": [
        "Let's plot this sample as a histogram"
      ]
    },
    {
      "cell_type": "code",
      "execution_count": 62,
      "metadata": {
        "colab": {
          "base_uri": "https://localhost:8080/",
          "height": 281
        },
        "id": "w8K-Wl1M0zGs",
        "outputId": "8d8d7f62-f9cb-4453-974c-f5394ae16ccc"
      },
      "outputs": [
        {
          "data": {
            "image/png": "[encoded data removed]",
            "text/plain": [
              "<Figure size 432x288 with 1 Axes>"
            ]
          },
          "metadata": {
            "needs_background": "light"
          },
          "output_type": "display_data"
        }
      ],
      "source": [
        "# Histogram\n",
        "sample.hist(bins=50, grid=False, color=\"#007398\");\n",
        "\n",
        "# Vertical red line representing the sample mean\n",
        "plt.axvline(float(sample.mean())\n",
        "            , linestyle=\"--\"\n",
        "            , ymax=0.9\n",
        "            , color=\"#f8485e\"\n",
        "            )\n",
        "plt.title(\"Random Sample of pop\");"
      ]
    },
    {
      "cell_type": "markdown",
      "metadata": {
        "id": "ZBzSaVQ70zGs"
      },
      "source": [
        "The mean of the sample is similar but not equal to the mean of the population."
      ]
    },
    {
      "cell_type": "code",
      "execution_count": 63,
      "metadata": {
        "colab": {
          "base_uri": "https://localhost:8080/"
        },
        "id": "z_aXgtrH0zGs",
        "outputId": "28837861-557b-4cd6-99aa-a6b897088a15"
      },
      "outputs": [
        {
          "name": "stdout",
          "output_type": "stream",
          "text": [
            "sample mean: 2.994229904318285\n",
            "population mean: 3.3871463523736334\n"
          ]
        }
      ],
      "source": [
        "# Sample mean\n",
        "print('sample mean:', float(np.mean(sample)))\n",
        "print('population mean:', float(pop_mean))"
      ]
    },
    {
      "cell_type": "markdown",
      "metadata": {
        "id": "9SGvJfWA0zGs"
      },
      "source": [
        "Let's recap what we know about the sample mean in relation to the population mean\n",
        "\n",
        "According to the central limit theorem, the sample means for any population will be distributed roughly as a normal distribution around the population mean:\n",
        "* Most of the sample means will be close to the population mean. \n",
        "* The sample means will be distributed, approximately, as a normal distribution around the population mean. \n",
        "* All of this will be true no matter what the distribution of the population looks like. The population from which the samples are being drawn does not have to have a normal distribution in order for the sample means to be distributed normally.\n",
        "\n",
        "Some general rules about the central limit theorem to remember:\n",
        "* If the population has extreme outliers and the samples are very small, the CLT may not function.\n",
        "* We may have a population with a higly skewed distribution, the distribution of the sample means will not be skewed.\n",
        "* The larger the number of the samples, the more closely the distribution will approximate the normal distribution."
      ]
    },
    {
      "cell_type": "markdown",
      "metadata": {
        "id": "1f9MEqvb0zGt"
      },
      "source": [
        "### Sampling distributions"
      ]
    },
    {
      "cell_type": "markdown",
      "metadata": {
        "id": "liBj8l2O0zGt"
      },
      "source": [
        "Now, we take 100, 1000 or 10000 samples, each one of size 50"
      ]
    },
    {
      "cell_type": "code",
      "execution_count": 64,
      "metadata": {
        "id": "ClAMczNs0zGt"
      },
      "outputs": [],
      "source": [
        "number_of_samples = 10000\n",
        "sample_size = 50\n",
        "samples = []\n",
        "\n",
        "for number in range(number_of_samples): \n",
        "    simple_random_sample = pop.sample(n= sample_size, \n",
        "                                      replace=True\n",
        "                                     )\n",
        "    samples.append([simple_random_sample])\n",
        "\n",
        "    "
      ]
    },
    {
      "cell_type": "code",
      "execution_count": 65,
      "metadata": {
        "colab": {
          "base_uri": "https://localhost:8080/"
        },
        "id": "S01UyIrlo7xU",
        "outputId": "fa55766e-62d8-4242-acc8-658b60a9bcd3"
      },
      "outputs": [
        {
          "data": {
            "text/plain": [
              "list"
            ]
          },
          "execution_count": 65,
          "metadata": {},
          "output_type": "execute_result"
        }
      ],
      "source": [
        "type(samples)"
      ]
    },
    {
      "cell_type": "markdown",
      "metadata": {
        "id": "mfew070z0zGt"
      },
      "source": [
        "Let's make a list of the mean for each sample:"
      ]
    },
    {
      "cell_type": "code",
      "execution_count": 66,
      "metadata": {
        "colab": {
          "base_uri": "https://localhost:8080/"
        },
        "id": "Zx2b4VGq0zGu",
        "outputId": "76661524-3088-4c2a-ef60-2546f3c5b4aa"
      },
      "outputs": [
        {
          "data": {
            "text/plain": [
              "list"
            ]
          },
          "execution_count": 66,
          "metadata": {},
          "output_type": "execute_result"
        }
      ],
      "source": [
        "sample_means = []\n",
        "\n",
        "for s in samples:\n",
        "    sample_means.append(np.mean(s))\n",
        "type(sample_means)"
      ]
    },
    {
      "cell_type": "markdown",
      "metadata": {
        "id": "x8GLjHwB0zGu"
      },
      "source": [
        "The result is the **sampling distribution** of the **sample means**:"
      ]
    },
    {
      "cell_type": "code",
      "execution_count": 67,
      "metadata": {
        "colab": {
          "base_uri": "https://localhost:8080/"
        },
        "id": "VLoy7KVipk9A",
        "outputId": "c5909aa1-a1f0-4ffd-a4b1-fbaded5cd590"
      },
      "outputs": [
        {
          "data": {
            "text/plain": [
              "numpy.float64"
            ]
          },
          "execution_count": 67,
          "metadata": {},
          "output_type": "execute_result"
        }
      ],
      "source": [
        "# Creating a series of the means\n",
        "sampling_dist_sample_means = pd.Series(sample_means)\n",
        "# Finding the mean of the Series\n",
        "sdsm_mean = (sampling_dist_sample_means.mean())\n",
        "type(sdsm_mean)"
      ]
    },
    {
      "cell_type": "code",
      "execution_count": 68,
      "metadata": {
        "colab": {
          "base_uri": "https://localhost:8080/",
          "height": 483
        },
        "id": "zMlU7RKW0zGu",
        "outputId": "ecf63901-ca5e-4e76-9253-7f1e44c98bd7"
      },
      "outputs": [
        {
          "data": {
            "image/png": "[encoded data removed]",
            "text/plain": [
              "<Figure size 720x576 with 1 Axes>"
            ]
          },
          "metadata": {
            "needs_background": "light"
          },
          "output_type": "display_data"
        }
      ],
      "source": [
        "\n",
        "# Finding the Standard Error\n",
        "se = (sampling_dist_sample_means.std())\n",
        "                \n",
        "# Plotting the Histogram\n",
        "sampling_dist_sample_means.hist(bins=50, grid=False, figsize=(10,8), color=\"#f8485e\");\n",
        "\n",
        "# Plotting the vertical lines\n",
        "plt.axvline(sdsm_mean, linestyle=\"--\",linewidth=3.5, color=\"g\");\n",
        "plt.axvline(sdsm_mean+se, linestyle=\"--\",linewidth=3.5, color=\"#595C5D\");\n",
        "plt.axvline(sdsm_mean-se, linestyle=\"--\",linewidth=3.5, color=\"#595C5D\");"
      ]
    },
    {
      "cell_type": "markdown",
      "metadata": {
        "id": "q28OnLp80zGu"
      },
      "source": [
        "We had a population of 12.500 elements, which had a weird bimodal distribution. We took 10.000 samples, each sample had size of 50. We then looked at the mean of each of the 10.000 samples, giving us 10.000 sample means. This is called a sampling distribution and it approximates the normal distribution.\n",
        "\n",
        "The larger the sample size and the more samples taken, the more closely the distribution of sample means will approximate the normal curve. As a rule of thumb, the sample size must at least 30 for the central limit theorem to hold true.\n",
        "> **Note:** a larger sample is less likely to be affected by a random variation."
      ]
    },
    {
      "cell_type": "markdown",
      "metadata": {
        "id": "XnEFipgL0zGv"
      },
      "source": [
        "The mean of the sampling distribution of the sample means should be pretty close to the true mean of the population:"
      ]
    },
    {
      "cell_type": "code",
      "execution_count": 69,
      "metadata": {
        "colab": {
          "base_uri": "https://localhost:8080/"
        },
        "id": "Qv5_yb4X0zGv",
        "outputId": "8ad3567e-2552-4d48-c881-0d9f9379dff0"
      },
      "outputs": [
        {
          "name": "stdout",
          "output_type": "stream",
          "text": [
            "The difference between the population mean and the mean of the sampling distribution is 0.0009\n"
          ]
        }
      ],
      "source": [
        "difference = pop_mean - np.mean(sampling_dist_sample_means)\n",
        "print(f\"The difference between the population mean and the mean of the sampling distribution is {round(difference[0], 4)}\")"
      ]
    },
    {
      "cell_type": "markdown",
      "metadata": {
        "id": "iRB05LTAPxMV"
      },
      "source": [
        "### Standard error"
      ]
    },
    {
      "cell_type": "markdown",
      "metadata": {
        "id": "WdrtyCYQ0zGv"
      },
      "source": [
        "We know that in a normal distribution, 95% of the values fall within 2 standard deviations of the mean. We will check that. But first, a terminology alert:\n",
        "\n",
        "> The *standard deviation of the sampling distribution of the sample means* is called **standard error of the mean** or simply **standard error**.\n",
        "\n"
      ]
    },
    {
      "cell_type": "markdown",
      "metadata": {
        "id": "DBZpGjqM0zGw"
      },
      "source": [
        "What is the difference between the standard error and the standard deviation?\n",
        "\n",
        "* The standard deviation measures the dispersion in the population or sample.\n",
        "* The standard error measures the dispersion of the sampling distribution of sample means.\n",
        "\n",
        "Let's look at the standard error for the samples taken from our popultaion"
      ]
    },
    {
      "cell_type": "code",
      "execution_count": 70,
      "metadata": {
        "colab": {
          "base_uri": "https://localhost:8080/"
        },
        "id": "lLGhZIWe0zGv",
        "outputId": "2df9a248-0b64-4df8-c0d1-87ea43b3349f"
      },
      "outputs": [
        {
          "data": {
            "text/plain": [
              "0.34494912967030483"
            ]
          },
          "execution_count": 70,
          "metadata": {},
          "output_type": "execute_result"
        }
      ],
      "source": [
        "standard_error = np.std(sampling_dist_sample_means)\n",
        "standard_error"
      ]
    },
    {
      "cell_type": "code",
      "execution_count": 71,
      "metadata": {
        "colab": {
          "base_uri": "https://localhost:8080/"
        },
        "id": "ZV1SBaTirAP2",
        "outputId": "f126ffde-25c2-4e49-ac81-dba55eba3b92"
      },
      "outputs": [
        {
          "data": {
            "text/plain": [
              "0.3449663784204554"
            ]
          },
          "execution_count": 71,
          "metadata": {},
          "output_type": "execute_result"
        }
      ],
      "source": [
        "# Finding the Standard Error\n",
        "se = (sampling_dist_sample_means.std())\n",
        "se"
      ]
    },
    {
      "cell_type": "markdown",
      "metadata": {
        "id": "qaMvMgVLQ9Ae"
      },
      "source": [
        "* We know that the standard error is one standard deviation for our distribution of the sample means. \n",
        "* We know that 95% of values are contained within 2 standard deviations of the mean of our distribution of sample means.\n",
        "* We can therefore conclude that if another sample has a mean that is more than 2 standard deviations away from the mean of our distribution of sample means, it is highly unlikely that they come from the same population - there's less than a 5% chance that they're from the same population"
      ]
    },
    {
      "cell_type": "code",
      "execution_count": 72,
      "metadata": {
        "colab": {
          "base_uri": "https://localhost:8080/"
        },
        "id": "iX1EVJx50zGw",
        "outputId": "29febfae-50df-4a21-ff65-c8838d38077e"
      },
      "outputs": [
        {
          "name": "stdout",
          "output_type": "stream",
          "text": [
            "2.7 - 4.08\n"
          ]
        }
      ],
      "source": [
        "# mean of distribution of sample means\n",
        "mean_sdsm = np.mean(sampling_dist_sample_means)\n",
        "\n",
        "lower_bound = mean_sdsm - 2*standard_error\n",
        "upper_bound = mean_sdsm + 2*standard_error\n",
        "\n",
        "print(round(lower_bound, 2), \"-\", round(upper_bound, 2))"
      ]
    },
    {
      "cell_type": "code",
      "execution_count": 73,
      "metadata": {
        "colab": {
          "base_uri": "https://localhost:8080/"
        },
        "id": "vK0FR2LH0zGw",
        "outputId": "f43ab750-5ca3-4b4c-edf3-c044c51322b4"
      },
      "outputs": [
        {
          "name": "stdout",
          "output_type": "stream",
          "text": [
            "Percentage of sample means within 2 standard errors of the mean = 95.36\n"
          ]
        }
      ],
      "source": [
        "count = 0\n",
        "for i in sample_means:\n",
        "    if i > lower_bound and i < upper_bound:\n",
        "        count +=1\n",
        "print(f\"Percentage of sample means within 2 standard errors of the mean = { count/len(sample_means)*100 }\")"
      ]
    },
    {
      "cell_type": "markdown",
      "metadata": {
        "id": "i5ExludR0zGw"
      },
      "source": [
        "Another property the standard error is that it can be estimated by taking the standard deviation of the population and dividing it by the square root of the sample size.\n",
        "\n",
        "Let's see how this checks out with our data:"
      ]
    },
    {
      "cell_type": "code",
      "execution_count": 74,
      "metadata": {
        "colab": {
          "base_uri": "https://localhost:8080/"
        },
        "id": "elXweibW0zGw",
        "outputId": "6db2d420-5b95-4ab2-9c82-d1466930be09"
      },
      "outputs": [
        {
          "data": {
            "text/plain": [
              "50"
            ]
          },
          "execution_count": 74,
          "metadata": {},
          "output_type": "execute_result"
        }
      ],
      "source": [
        "sample_size"
      ]
    },
    {
      "cell_type": "code",
      "execution_count": 75,
      "metadata": {
        "colab": {
          "base_uri": "https://localhost:8080/"
        },
        "id": "RY98Oj8B0zGw",
        "outputId": "3c10d7be-9139-4894-ce92-3e53cb43cc10"
      },
      "outputs": [
        {
          "data": {
            "text/plain": [
              "0.34494912967030483"
            ]
          },
          "execution_count": 75,
          "metadata": {},
          "output_type": "execute_result"
        }
      ],
      "source": [
        "standard_error"
      ]
    },
    {
      "cell_type": "code",
      "execution_count": 76,
      "metadata": {
        "colab": {
          "base_uri": "https://localhost:8080/"
        },
        "id": "HsXr6fz_0zGw",
        "outputId": "d3ef7f40-f0bf-4727-9bd2-b31a7807628a"
      },
      "outputs": [
        {
          "data": {
            "text/plain": [
              "0    2.438371\n",
              "dtype: float64"
            ]
          },
          "execution_count": 76,
          "metadata": {},
          "output_type": "execute_result"
        }
      ],
      "source": [
        "# standard deviation of the population\n",
        "pop_std"
      ]
    },
    {
      "cell_type": "markdown",
      "metadata": {
        "id": "z353iTjS0zGw"
      },
      "source": [
        "The formula of standard error is: \n",
        "\n",
        "$$\\sigma_{M} = \\frac{\\sigma}{\\sqrt(n)}$$\n",
        "\n",
        "* $\\sigma$ is the standard deviation of the population from which sample is drawn.\n",
        "* $n$ is the size of the sample."
      ]
    },
    {
      "cell_type": "code",
      "execution_count": 77,
      "metadata": {
        "colab": {
          "base_uri": "https://localhost:8080/"
        },
        "id": "eGqmlGju0zGw",
        "outputId": "451c1285-7f77-42e7-ef4b-e0d11334fdb5",
        "scrolled": true
      },
      "outputs": [
        {
          "data": {
            "text/plain": [
              "0    0.344838\n",
              "dtype: float64"
            ]
          },
          "execution_count": 77,
          "metadata": {},
          "output_type": "execute_result"
        }
      ],
      "source": [
        "# population standard deviation / square root of population size\n",
        "pop_std/np.sqrt(sample_size)"
      ]
    },
    {
      "cell_type": "markdown",
      "metadata": {
        "id": "_Dc_073dXI3N"
      },
      "source": [
        "When we don't have access to the population, we estimate the standard error of the mean by taking the standard deviation of the sample:"
      ]
    },
    {
      "cell_type": "code",
      "execution_count": 78,
      "metadata": {
        "colab": {
          "base_uri": "https://localhost:8080/"
        },
        "id": "3YM5W3kC0zGx",
        "outputId": "c44f27d9-1f60-45ae-c87b-1a1b9f81569f"
      },
      "outputs": [
        {
          "data": {
            "text/plain": [
              "0    0.364068\n",
              "dtype: float64"
            ]
          },
          "execution_count": 78,
          "metadata": {},
          "output_type": "execute_result"
        }
      ],
      "source": [
        "# sample standard deviation / square root of population size\n",
        "sample.std()/np.sqrt(sample_size)"
      ]
    },
    {
      "cell_type": "markdown",
      "metadata": {
        "id": "Zy1n0RB40zGx"
      },
      "source": [
        "In the major part of the cases, we don't know the population standard deviation, so for large samples, we can assume that the standard deviation of the sample is reasonably close to the standard deviation of the population."
      ]
    },
    {
      "cell_type": "markdown",
      "metadata": {
        "id": "MQIZRPJN0zGx"
      },
      "source": [
        "#### **Exercise 2:** \n",
        "Before moving on, repeat the experiment (located under the header `Sampling distributions`) changing a few parameters and note down what happens in the following cases:\n",
        "\n",
        "* With diferent sample sizes (both smaller and greater)\n",
        "* With fewer or more samples.\n",
        "* Adding some extreme outliers to the population.\n",
        "* Sampling without replacement."
      ]
    },
    {
      "cell_type": "code",
      "execution_count": 79,
      "metadata": {
        "id": "zqtJmGQbvkSW"
      },
      "outputs": [],
      "source": [
        "for i in range(1,3):\n",
        "    pop= pop.append(pop.max()*i, ignore_index=True )\n",
        "    pop= pop.append(pop.min()*i, ignore_index=True )\n"
      ]
    },
    {
      "cell_type": "code",
      "execution_count": 80,
      "metadata": {
        "colab": {
          "base_uri": "https://localhost:8080/",
          "height": 500
        },
        "id": "T1U4VaV_tzdU",
        "outputId": "ca1d620c-cdad-44ce-edef-56f66cd0eb1e"
      },
      "outputs": [
        {
          "name": "stdout",
          "output_type": "stream",
          "text": [
            "The difference between the population mean and the mean of the sampling distribution is 0.0052\n"
          ]
        },
        {
          "data": {
            "image/png": "[encoded data removed]",
            "text/plain": [
              "<Figure size 720x576 with 1 Axes>"
            ]
          },
          "metadata": {
            "needs_background": "light"
          },
          "output_type": "display_data"
        }
      ],
      "source": [
        "number_of_samples = 5000\n",
        "sample_size = 30\n",
        "samples = []\n",
        "sample_means = []\n",
        "\n",
        "for number in range(number_of_samples): \n",
        "    simple_random_sample = pop.sample(n= sample_size\n",
        "                                      ,replace=True\n",
        "                                      ,random_state=number\n",
        "                                      )\n",
        "    samples.append([simple_random_sample])\n",
        "for s in samples:\n",
        "    sample_means.append(np.mean(s))\n",
        "# Creating a series of the means\n",
        "sampling_dist_sample_means = pd.Series(sample_means)\n",
        "# Finding the mean of the Series\n",
        "sdsm_mean = (sampling_dist_sample_means.mean())\n",
        "# Finding the Standard Error\n",
        "se = (sampling_dist_sample_means.std())        \n",
        "# Plotting the Histogram\n",
        "sampling_dist_sample_means.hist(bins=50, grid=False, figsize=(10,8), color=\"#f8485e\");\n",
        "# Plotting the vertical lines\n",
        "plt.axvline(sdsm_mean, linestyle=\"--\",linewidth=3.5, color=\"g\");\n",
        "plt.axvline(sdsm_mean+se, linestyle=\"--\",linewidth=3.5, color=\"#595C5D\");\n",
        "plt.axvline(sdsm_mean-se, linestyle=\"--\",linewidth=3.5, color=\"#595C5D\");\n",
        "difference = pop_mean - np.mean(sampling_dist_sample_means)\n",
        "print(f\"The difference between the population mean and the mean of the sampling distribution is {round(difference[0], 4)}\")"
      ]
    },
    {
      "cell_type": "markdown",
      "metadata": {
        "id": "WIoJEKaP0zGx"
      },
      "source": [
        "Summarising the main ideas: \n",
        "\n",
        "* If you draw large, random samples from any population, the means of those samples will be distributed normally around the population mean (regardless of what the distribution of the underlying population looks like).\n",
        "* Most sample means will lie reasonably close to the poulation mean; the standard error is what defines \"reasonably close\".\n",
        "* The central limit theorem tells us the probability that a sample mean will lie within a certain distance of the population mean. It is relatively unlikely that a sample mean willl lie more than two standard errors from the population mean, and extremely unlikely that it will lie three or more standard errors from the population mean. \n",
        "* The less likely it is that an outcome has been observed by change, the more confidence we can in surmising that some other factor is in play. "
      ]
    },
    {
      "cell_type": "markdown",
      "metadata": {
        "id": "LrTtpCS40zGx"
      },
      "source": [
        "## Squirrels example\n",
        "\n",
        "Let's assume that the population values from earlier represent the weights of squirrels. Now, in reality, if we took a sample of squirrels we wouldn't know the mean and the standard deviation of the population - this is normal. We simply go to the forest, take a random sample of 50 squirrels and register their weight:"
      ]
    },
    {
      "cell_type": "code",
      "execution_count": 81,
      "metadata": {
        "colab": {
          "base_uri": "https://localhost:8080/",
          "height": 281
        },
        "id": "r4zDFJy60zGx",
        "outputId": "d2ba9087-2ddf-42fa-a3f6-c43040f8b529"
      },
      "outputs": [
        {
          "data": {
            "image/png": "[encoded data removed]",
            "text/plain": [
              "<Figure size 432x288 with 1 Axes>"
            ]
          },
          "metadata": {
            "needs_background": "light"
          },
          "output_type": "display_data"
        }
      ],
      "source": [
        "squirrels = pop.sample(50, random_state=1990)\n",
        "\n",
        "squirrels.hist();"
      ]
    },
    {
      "cell_type": "markdown",
      "metadata": {
        "id": "XUmJPFqV0zGx"
      },
      "source": [
        "We wonder if the mean of the weights of the squirrels is close to the 'true' mean of the population (which we can't measure)\n"
      ]
    },
    {
      "cell_type": "code",
      "execution_count": 82,
      "metadata": {
        "colab": {
          "base_uri": "https://localhost:8080/"
        },
        "id": "OP1yO8yz0zGy",
        "outputId": "513b1abb-75a6-4be8-a7cc-b2ff54dd5a90"
      },
      "outputs": [
        {
          "data": {
            "text/plain": [
              "3.9383025271623784"
            ]
          },
          "execution_count": 82,
          "metadata": {},
          "output_type": "execute_result"
        }
      ],
      "source": [
        "# mean of our sample\n",
        "mean_squirrels = float(squirrels.mean())\n",
        "mean_squirrels"
      ]
    },
    {
      "cell_type": "markdown",
      "metadata": {
        "id": "wQ7Z1tMm0zGy"
      },
      "source": [
        "The standard error of the mean is an estimate of how far the sample mean is likely to be from the population mean.\n",
        "\n",
        "It is an estimate of the standard deviation of the sampling distribution of the sample means, which, as we've seen, follows a normal ditribution."
      ]
    },
    {
      "cell_type": "code",
      "execution_count": 83,
      "metadata": {
        "colab": {
          "base_uri": "https://localhost:8080/"
        },
        "id": "zDWWvxn_0zGy",
        "outputId": "62fa3f3c-b34d-47f9-955e-045772625215"
      },
      "outputs": [
        {
          "data": {
            "text/plain": [
              "0.3594348132026483"
            ]
          },
          "execution_count": 83,
          "metadata": {},
          "output_type": "execute_result"
        }
      ],
      "source": [
        "# standard error of the mean\n",
        "sem_squirrels = float(squirrels.std()/np.sqrt(len(squirrels)))\n",
        "sem_squirrels"
      ]
    },
    {
      "cell_type": "markdown",
      "metadata": {
        "id": "wcB9FyytZW4b"
      },
      "source": [
        "We can also calculate the standard error using scipy"
      ]
    },
    {
      "cell_type": "code",
      "execution_count": 84,
      "metadata": {
        "colab": {
          "base_uri": "https://localhost:8080/"
        },
        "id": "LjrCQJuO0zGy",
        "outputId": "3bd20a3d-e485-4331-bec8-1fe5d85d2778"
      },
      "outputs": [
        {
          "data": {
            "text/plain": [
              "array([0.35943481])"
            ]
          },
          "execution_count": 84,
          "metadata": {},
          "output_type": "execute_result"
        }
      ],
      "source": [
        "stats.sem(squirrels)"
      ]
    },
    {
      "cell_type": "markdown",
      "metadata": {
        "id": "SttG17TR0zGy"
      },
      "source": [
        "We know that no matter the distribution of our sample or the population, the sampling distribution of the sample means is normal (Central Limit Theorem).\n",
        "\n",
        "Knowing that, we can use the properties of the normal distribution to gain information about our sample and how much it might differ from the true population.\n",
        "\n",
        "We have:\n",
        "\n",
        "1. The mean of the sample.\n",
        "2. An estimation of the standard error.\n",
        "\n",
        "With this two elements and knowing the CLT, we can simulate a sampling distribution of sample means built around the mean of our sample.\n",
        "\n",
        "This sampling distribution we will simulate will be, of course, normal. We can plot it and draw the lines within 2 Standard Errors above and below the mean, representing the interval where 95% of the observations fall:"
      ]
    },
    {
      "cell_type": "code",
      "execution_count": 85,
      "metadata": {
        "colab": {
          "base_uri": "https://localhost:8080/",
          "height": 475
        },
        "id": "JEi0BB25h5n5",
        "outputId": "0e3dd7bf-186d-4f36-ce2b-0ee0f88a0538"
      },
      "outputs": [
        {
          "data": {
            "image/png": "[encoded data removed]",
            "text/plain": [
              "<Figure size 1008x576 with 1 Axes>"
            ]
          },
          "metadata": {
            "needs_background": "light"
          },
          "output_type": "display_data"
        }
      ],
      "source": [
        "# generating a normal distribution\n",
        "sampling_dist_squirrels = stats.norm.rvs(loc=mean_squirrels, # The mean of the sample.\n",
        "                                         scale=sem_squirrels, # An estimation of the standard error.\n",
        "                                         size=100000,\n",
        "                                         random_state=123\n",
        "                                         )\n",
        "\n",
        "norm_dist = pd.Series(sampling_dist_squirrels)\n",
        "\n",
        "norm_dist.hist(bins=30, figsize=(14, 8))\n",
        "\n",
        "plt.axvline(mean_squirrels-sem_squirrels*2, color = 'r', linestyle=\"--\")\n",
        "plt.axvline(mean_squirrels+sem_squirrels*2, color = 'r', linestyle=\"--\");"
      ]
    },
    {
      "cell_type": "markdown",
      "metadata": {
        "id": "lXLIHJpSh1eF"
      },
      "source": [
        "What does this distribution and this interval tell us?\n",
        "\n",
        "If we took many samples, and in each sample we drew this interval with the red dotted lines, 95% of the time the true mean would fall inside of the interval. 5% of the time, the mean would fall outside (2.5% in each direction).\n",
        "\n",
        "This is why we call this the 95% confidence interval. A **confidence interval** is a 'plausible range of values' for a population parameter (in this case, the mean).\n",
        "\n",
        "Let's calculate the upper and lower bounds of this interval:"
      ]
    },
    {
      "cell_type": "code",
      "execution_count": 86,
      "metadata": {
        "colab": {
          "base_uri": "https://localhost:8080/"
        },
        "id": "TVkP9cq10zGy",
        "outputId": "45174258-a8b4-418f-fcab-7086dc95595f"
      },
      "outputs": [
        {
          "data": {
            "text/plain": [
              "0    4.657172\n",
              "dtype: float64"
            ]
          },
          "execution_count": 86,
          "metadata": {},
          "output_type": "execute_result"
        }
      ],
      "source": [
        "# upper bound of the confidence interval\n",
        "np.mean(squirrels) + stats.sem(squirrels)*2\n",
        "\n",
        "# if you want the results to match with the manual calculation below,\n",
        "# change the \"2\" for a \"1.96\""
      ]
    },
    {
      "cell_type": "code",
      "execution_count": 87,
      "metadata": {
        "colab": {
          "base_uri": "https://localhost:8080/"
        },
        "id": "LHxMUQzQ0zGy",
        "outputId": "e775923d-9861-4c1c-813a-7b9d2ef65abd"
      },
      "outputs": [
        {
          "data": {
            "text/plain": [
              "0    3.219433\n",
              "dtype: float64"
            ]
          },
          "execution_count": 87,
          "metadata": {},
          "output_type": "execute_result"
        }
      ],
      "source": [
        "# lower bound of the confidence interval\n",
        "np.mean(squirrels) - stats.sem(squirrels)*2\n",
        "\n",
        "# if you want the results to match with the manual calculation below,\n",
        "# change the \"2\" for a \"1.96\""
      ]
    },
    {
      "cell_type": "code",
      "execution_count": 88,
      "metadata": {
        "colab": {
          "base_uri": "https://localhost:8080/"
        },
        "id": "kHq5RXD40zGy",
        "outputId": "2466a781-fa43-4f46-fa0a-9194aff0adfd"
      },
      "outputs": [
        {
          "data": {
            "text/plain": [
              "(array([3.23382324]), array([4.64278182]))"
            ]
          },
          "execution_count": 88,
          "metadata": {},
          "output_type": "execute_result"
        }
      ],
      "source": [
        "# using scipy to calculate the confidence interval:\n",
        "stats.norm.interval(alpha=0.95, # the confidence level\n",
        "                 loc=np.mean(squirrels), # mean of our sample\n",
        "                 scale=stats.sem(squirrels)) # standard error of the mean"
      ]
    },
    {
      "cell_type": "markdown",
      "metadata": {
        "id": "gUZEvB0z0zGz"
      },
      "source": [
        "We have made some estimations that might be imperfect, for example when calculating the Standard Error. And our sample is not really big (only 50 squirrels). If we want an extra degree of confidence or, in other words, a more conservative estimate of the confidence interval, we can use a t-distribution instead of a normal distribution.\n",
        "\n",
        "A t distribution is 'flatter' and has 'fat tails' for small populations, and is indistinguishable from a normal distribution for bigger populations.\n",
        "\n"
      ]
    },
    {
      "cell_type": "code",
      "execution_count": 89,
      "metadata": {
        "colab": {
          "base_uri": "https://localhost:8080/",
          "height": 475
        },
        "id": "ZsWVzwV8nL62",
        "outputId": "161c9caf-ee25-4554-fcef-d52abbba72f3"
      },
      "outputs": [
        {
          "data": {
            "image/png": "[encoded data removed]",
            "text/plain": [
              "<Figure size 1008x576 with 1 Axes>"
            ]
          },
          "metadata": {
            "needs_background": "light"
          },
          "output_type": "display_data"
        }
      ],
      "source": [
        "# generating a t distribution\n",
        "sampling_t_dist_squirrels = stats.t.rvs(loc=mean_squirrels, # The mean of the sample.\n",
        "                                        scale=sem_squirrels, # An estimation of the standard error.\n",
        "                                        df=len(squirrels), # Our sample size\n",
        "                                        size=100000,\n",
        "                                        random_state=123\n",
        "                                         )\n",
        "\n",
        "sampling_t_dist_squirrels = pd.Series(sampling_t_dist_squirrels)\n",
        "\n",
        "sampling_t_dist_squirrels.hist(bins=30, figsize=(14, 8));"
      ]
    },
    {
      "cell_type": "markdown",
      "metadata": {
        "id": "a_i52a6qnMxF"
      },
      "source": [
        "The confidence interval is slightly thinner if we use a normal distribution:"
      ]
    },
    {
      "cell_type": "code",
      "execution_count": 90,
      "metadata": {
        "colab": {
          "base_uri": "https://localhost:8080/"
        },
        "id": "iamLy3JL0zGy",
        "outputId": "b42a91e4-7cb1-4e57-e0f0-eda4eca5e4a5"
      },
      "outputs": [
        {
          "data": {
            "text/plain": [
              "(array([3.21599123]), array([4.66061383]))"
            ]
          },
          "execution_count": 90,
          "metadata": {},
          "output_type": "execute_result"
        }
      ],
      "source": [
        "# using a t distribution:\n",
        "t_interval = stats.t.interval(\n",
        "            0.95, # the confidence level\n",
        "            len(squirrels)-1, # degrees of freedom = sample size - 1\n",
        "            loc=np.mean(squirrels), # mean of our sample\n",
        "            scale=stats.sem(squirrels) # standard error of the mean\n",
        "            )\n",
        "t_interval"
      ]
    },
    {
      "cell_type": "markdown",
      "metadata": {
        "id": "3Ujg7PSRmnj1"
      },
      "source": [
        "### **Exercise 3:**\n",
        "\n",
        "Did the true mean really fall within the 95% confidence interval?"
      ]
    },
    {
      "cell_type": "code",
      "execution_count": 91,
      "metadata": {
        "colab": {
          "base_uri": "https://localhost:8080/"
        },
        "id": "vykEGIAchJzi",
        "outputId": "3f334e75-fc3e-435a-a7fe-e34640aee811"
      },
      "outputs": [
        {
          "data": {
            "text/plain": [
              "3.2159912281370815"
            ]
          },
          "execution_count": 91,
          "metadata": {},
          "output_type": "execute_result"
        }
      ],
      "source": [
        "float(t_interval[0])"
      ]
    },
    {
      "cell_type": "code",
      "execution_count": 92,
      "metadata": {
        "colab": {
          "base_uri": "https://localhost:8080/"
        },
        "id": "XeV6AvfA0zGz",
        "outputId": "389f288d-1a8d-4b4a-8c9d-779a86a70802"
      },
      "outputs": [
        {
          "data": {
            "text/plain": [
              "True"
            ]
          },
          "execution_count": 92,
          "metadata": {},
          "output_type": "execute_result"
        }
      ],
      "source": [
        "(float(pop_mean) >= float(t_interval[0])) and (float(pop_mean) <= float(t_interval[1]))"
      ]
    },
    {
      "cell_type": "markdown",
      "metadata": {
        "id": "Xyci-4zZ0zGz"
      },
      "source": [
        "Probably yes, but beware: by definition, 5% of the time it will not!\n",
        "\n",
        "### **Exercise 4**: \n",
        "Can you run the experiment 10,000 times and prove it?"
      ]
    },
    {
      "cell_type": "code",
      "execution_count": 93,
      "metadata": {
        "colab": {
          "base_uri": "https://localhost:8080/"
        },
        "id": "vlEwGVWPmzcG",
        "outputId": "d5f4adcc-97bd-48b2-ff77-3f336cd4f4e5"
      },
      "outputs": [
        {
          "name": "stdout",
          "output_type": "stream",
          "text": [
            "95.24000000000001% is True\n"
          ]
        }
      ],
      "source": [
        "is_true=[]\n",
        "n=50\n",
        "for iter in range(10000):\n",
        "    squirrels = pop.sample(n\n",
        "                           ,replace=True\n",
        "                           #,random_state=iter\n",
        "                           )\n",
        "    # using a t distribution:\n",
        "    t_interval = stats.t.interval(\n",
        "                0.95, # the confidence level\n",
        "                n-1, # degrees of freedom = sample size - 1\n",
        "                loc=np.mean(squirrels), # mean of our sample\n",
        "                scale=stats.sem(squirrels) # standard error of the mean\n",
        "                )\n",
        "    is_true.append((float(pop_mean) >= float(t_interval[0])) and (float(pop_mean) <= float(t_interval[1])))\n",
        "\n",
        "print(f\"{(sum(is_true)/len(is_true))*100}% is True\")"
      ]
    }
  ],
  "metadata": {
    "colab": {
      "include_colab_link": true,
      "provenance": [],
      "toc_visible": true
    },
    "kernelspec": {
      "display_name": "Python 3",
      "language": "python",
      "name": "python3"
    },
    "language_info": {
      "codemirror_mode": {
        "name": "ipython",
        "version": 3
      },
      "file_extension": ".py",
      "mimetype": "text/x-python",
      "name": "python",
      "nbconvert_exporter": "python",
      "pygments_lexer": "ipython3",
      "version": "3.9.1 (tags/v3.9.1:1e5d33e, Dec  7 2020, 17:08:21) [MSC v.1927 64 bit (AMD64)]"
    },
    "toc": {
      "base_numbering": 1,
      "nav_menu": {},
      "number_sections": true,
      "sideBar": true,
      "skip_h1_title": false,
      "title_cell": "Table of Contents",
      "title_sidebar": "Contents",
      "toc_cell": false,
      "toc_position": {},
      "toc_section_display": true,
      "toc_window_display": false
    },
    "varInspector": {
      "cols": {
        "lenName": 16,
        "lenType": 16,
        "lenVar": 40
      },
      "kernels_config": {
        "python": {
          "delete_cmd_postfix": "",
          "delete_cmd_prefix": "del ",
          "library": "var_list.py",
          "varRefreshCmd": "print(var_dic_list())"
        },
        "r": {
          "delete_cmd_postfix": ") ",
          "delete_cmd_prefix": "rm(",
          "library": "var_list.r",
          "varRefreshCmd": "cat(var_dic_list()) "
        }
      },
      "types_to_exclude": [
        "module",
        "function",
        "builtin_function_or_method",
        "instance",
        "_Feature"
      ],
      "window_display": false
    },
    "vscode": {
      "interpreter": {
        "hash": "81794d4967e6c3204c66dcd87b604927b115b27c00565d3d43f05ba2f3a2cb0d"
      }
    }
  },
  "nbformat": 4,
  "nbformat_minor": 0
}
