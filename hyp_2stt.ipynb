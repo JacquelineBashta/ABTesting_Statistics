{
 "cells": [
  {
   "attachments": {},
   "cell_type": "markdown",
   "metadata": {},
   "source": [
    "# Hypothesis testing: 2-Sample t-test (2stt)\n",
    "\n",
    "check https://www.statology.org/two-sample-t-test/"
   ]
  },
  {
   "attachments": {},
   "cell_type": "markdown",
   "metadata": {},
   "source": [
    "Calculate a Two-sample t-test twice. \n",
    "1. approach manually: see the maths and reasoning behind it (help with comprehension and help you to design better experiments.)\n",
    "2. shorter coding way : where a computer will do all the work for you, but won't tell you why, it's a black box of numbers."
   ]
  },
  {
   "cell_type": "code",
   "execution_count": 1,
   "metadata": {},
   "outputs": [],
   "source": [
    "import numpy as np\n",
    "import pandas as pd\n",
    "import matplotlib.pyplot as plt\n",
    "import scipy.stats as stats"
   ]
  },
  {
   "attachments": {},
   "cell_type": "markdown",
   "metadata": {},
   "source": [
    "# I. The manual approach"
   ]
  },
  {
   "attachments": {},
   "cell_type": "markdown",
   "metadata": {},
   "source": [
    "## 1.&nbsp; Describe the problem\n",
    "Define the initial question for which the truth is not known."
   ]
  },
  {
   "attachments": {},
   "cell_type": "markdown",
   "metadata": {},
   "source": [
    "You have created an an experiment with two versions of a webpage. The metric you compare is the session time each user stays on the page. \n",
    "\n",
    "If your confidence level is 90%, is there a statistically significant difference between the two pages?"
   ]
  },
  {
   "cell_type": "code",
   "execution_count": 5,
   "metadata": {},
   "outputs": [
    {
     "data": {
      "text/html": [
       "<div>\n",
       "<style scoped>\n",
       "    .dataframe tbody tr th:only-of-type {\n",
       "        vertical-align: middle;\n",
       "    }\n",
       "\n",
       "    .dataframe tbody tr th {\n",
       "        vertical-align: top;\n",
       "    }\n",
       "\n",
       "    .dataframe thead th {\n",
       "        text-align: right;\n",
       "    }\n",
       "</style>\n",
       "<table border=\"1\" class=\"dataframe\">\n",
       "  <thead>\n",
       "    <tr style=\"text-align: right;\">\n",
       "      <th></th>\n",
       "      <th>Page</th>\n",
       "      <th>Time</th>\n",
       "    </tr>\n",
       "  </thead>\n",
       "  <tbody>\n",
       "    <tr>\n",
       "      <th>0</th>\n",
       "      <td>Page A</td>\n",
       "      <td>21.0</td>\n",
       "    </tr>\n",
       "    <tr>\n",
       "      <th>1</th>\n",
       "      <td>Page B</td>\n",
       "      <td>253.0</td>\n",
       "    </tr>\n",
       "    <tr>\n",
       "      <th>2</th>\n",
       "      <td>Page A</td>\n",
       "      <td>35.0</td>\n",
       "    </tr>\n",
       "    <tr>\n",
       "      <th>3</th>\n",
       "      <td>Page B</td>\n",
       "      <td>71.0</td>\n",
       "    </tr>\n",
       "    <tr>\n",
       "      <th>4</th>\n",
       "      <td>Page A</td>\n",
       "      <td>67.0</td>\n",
       "    </tr>\n",
       "  </tbody>\n",
       "</table>\n",
       "</div>"
      ],
      "text/plain": [
       "     Page   Time\n",
       "0  Page A   21.0\n",
       "1  Page B  253.0\n",
       "2  Page A   35.0\n",
       "3  Page B   71.0\n",
       "4  Page A   67.0"
      ]
     },
     "execution_count": 5,
     "metadata": {},
     "output_type": "execute_result"
    }
   ],
   "source": [
    "# session_times.csv\n",
    "url = 'https://drive.google.com/file/d/1nYRMCgv3OKaiIUDBPgq-EnE2sWhgrJI3/view?usp=sharing' \n",
    "path = 'https://drive.google.com/uc?export=download&id='+url.split('/')[-2]\n",
    "se_times = pd.read_csv(path)\n",
    "\n",
    "se_times.head()"
   ]
  },
  {
   "cell_type": "code",
   "execution_count": 12,
   "metadata": {},
   "outputs": [
    {
     "data": {
      "text/plain": [
       "(36, 2)"
      ]
     },
     "execution_count": 12,
     "metadata": {},
     "output_type": "execute_result"
    }
   ],
   "source": [
    "se_times.shape"
   ]
  },
  {
   "cell_type": "code",
   "execution_count": 17,
   "metadata": {},
   "outputs": [
    {
     "data": {
      "text/html": [
       "<div>\n",
       "<style scoped>\n",
       "    .dataframe tbody tr th:only-of-type {\n",
       "        vertical-align: middle;\n",
       "    }\n",
       "\n",
       "    .dataframe tbody tr th {\n",
       "        vertical-align: top;\n",
       "    }\n",
       "\n",
       "    .dataframe thead th {\n",
       "        text-align: right;\n",
       "    }\n",
       "</style>\n",
       "<table border=\"1\" class=\"dataframe\">\n",
       "  <thead>\n",
       "    <tr style=\"text-align: right;\">\n",
       "      <th></th>\n",
       "      <th>Page</th>\n",
       "      <th>Time</th>\n",
       "    </tr>\n",
       "  </thead>\n",
       "  <tbody>\n",
       "    <tr>\n",
       "      <th>0</th>\n",
       "      <td>Page A</td>\n",
       "      <td>21.0</td>\n",
       "    </tr>\n",
       "    <tr>\n",
       "      <th>1</th>\n",
       "      <td>Page B</td>\n",
       "      <td>253.0</td>\n",
       "    </tr>\n",
       "    <tr>\n",
       "      <th>2</th>\n",
       "      <td>Page A</td>\n",
       "      <td>35.0</td>\n",
       "    </tr>\n",
       "    <tr>\n",
       "      <th>3</th>\n",
       "      <td>Page B</td>\n",
       "      <td>71.0</td>\n",
       "    </tr>\n",
       "    <tr>\n",
       "      <th>4</th>\n",
       "      <td>Page A</td>\n",
       "      <td>67.0</td>\n",
       "    </tr>\n",
       "    <tr>\n",
       "      <th>5</th>\n",
       "      <td>Page B</td>\n",
       "      <td>85.0</td>\n",
       "    </tr>\n",
       "    <tr>\n",
       "      <th>6</th>\n",
       "      <td>Page A</td>\n",
       "      <td>211.0</td>\n",
       "    </tr>\n",
       "    <tr>\n",
       "      <th>7</th>\n",
       "      <td>Page B</td>\n",
       "      <td>246.0</td>\n",
       "    </tr>\n",
       "    <tr>\n",
       "      <th>8</th>\n",
       "      <td>Page A</td>\n",
       "      <td>132.0</td>\n",
       "    </tr>\n",
       "    <tr>\n",
       "      <th>9</th>\n",
       "      <td>Page B</td>\n",
       "      <td>149.0</td>\n",
       "    </tr>\n",
       "    <tr>\n",
       "      <th>10</th>\n",
       "      <td>Page A</td>\n",
       "      <td>68.0</td>\n",
       "    </tr>\n",
       "    <tr>\n",
       "      <th>11</th>\n",
       "      <td>Page B</td>\n",
       "      <td>75.0</td>\n",
       "    </tr>\n",
       "    <tr>\n",
       "      <th>12</th>\n",
       "      <td>Page A</td>\n",
       "      <td>321.0</td>\n",
       "    </tr>\n",
       "    <tr>\n",
       "      <th>13</th>\n",
       "      <td>Page B</td>\n",
       "      <td>333.0</td>\n",
       "    </tr>\n",
       "    <tr>\n",
       "      <th>14</th>\n",
       "      <td>Page A</td>\n",
       "      <td>147.0</td>\n",
       "    </tr>\n",
       "    <tr>\n",
       "      <th>15</th>\n",
       "      <td>Page B</td>\n",
       "      <td>187.0</td>\n",
       "    </tr>\n",
       "    <tr>\n",
       "      <th>16</th>\n",
       "      <td>Page A</td>\n",
       "      <td>95.0</td>\n",
       "    </tr>\n",
       "    <tr>\n",
       "      <th>17</th>\n",
       "      <td>Page B</td>\n",
       "      <td>126.0</td>\n",
       "    </tr>\n",
       "    <tr>\n",
       "      <th>18</th>\n",
       "      <td>Page A</td>\n",
       "      <td>45.0</td>\n",
       "    </tr>\n",
       "    <tr>\n",
       "      <th>19</th>\n",
       "      <td>Page B</td>\n",
       "      <td>48.0</td>\n",
       "    </tr>\n",
       "    <tr>\n",
       "      <th>20</th>\n",
       "      <td>Page A</td>\n",
       "      <td>118.0</td>\n",
       "    </tr>\n",
       "    <tr>\n",
       "      <th>21</th>\n",
       "      <td>Page B</td>\n",
       "      <td>147.0</td>\n",
       "    </tr>\n",
       "    <tr>\n",
       "      <th>22</th>\n",
       "      <td>Page A</td>\n",
       "      <td>342.0</td>\n",
       "    </tr>\n",
       "    <tr>\n",
       "      <th>23</th>\n",
       "      <td>Page B</td>\n",
       "      <td>357.0</td>\n",
       "    </tr>\n",
       "    <tr>\n",
       "      <th>24</th>\n",
       "      <td>Page A</td>\n",
       "      <td>197.0</td>\n",
       "    </tr>\n",
       "    <tr>\n",
       "      <th>25</th>\n",
       "      <td>Page B</td>\n",
       "      <td>223.0</td>\n",
       "    </tr>\n",
       "    <tr>\n",
       "      <th>26</th>\n",
       "      <td>Page A</td>\n",
       "      <td>39.0</td>\n",
       "    </tr>\n",
       "    <tr>\n",
       "      <th>27</th>\n",
       "      <td>Page B</td>\n",
       "      <td>43.0</td>\n",
       "    </tr>\n",
       "    <tr>\n",
       "      <th>28</th>\n",
       "      <td>Page A</td>\n",
       "      <td>65.0</td>\n",
       "    </tr>\n",
       "    <tr>\n",
       "      <th>29</th>\n",
       "      <td>Page B</td>\n",
       "      <td>87.0</td>\n",
       "    </tr>\n",
       "    <tr>\n",
       "      <th>30</th>\n",
       "      <td>Page A</td>\n",
       "      <td>173.0</td>\n",
       "    </tr>\n",
       "    <tr>\n",
       "      <th>31</th>\n",
       "      <td>Page A</td>\n",
       "      <td>74.0</td>\n",
       "    </tr>\n",
       "    <tr>\n",
       "      <th>32</th>\n",
       "      <td>Page A</td>\n",
       "      <td>86.0</td>\n",
       "    </tr>\n",
       "    <tr>\n",
       "      <th>33</th>\n",
       "      <td>Page A</td>\n",
       "      <td>118.0</td>\n",
       "    </tr>\n",
       "    <tr>\n",
       "      <th>34</th>\n",
       "      <td>Page A</td>\n",
       "      <td>206.0</td>\n",
       "    </tr>\n",
       "    <tr>\n",
       "      <th>35</th>\n",
       "      <td>Page A</td>\n",
       "      <td>93.0</td>\n",
       "    </tr>\n",
       "  </tbody>\n",
       "</table>\n",
       "</div>"
      ],
      "text/plain": [
       "      Page   Time\n",
       "0   Page A   21.0\n",
       "1   Page B  253.0\n",
       "2   Page A   35.0\n",
       "3   Page B   71.0\n",
       "4   Page A   67.0\n",
       "5   Page B   85.0\n",
       "6   Page A  211.0\n",
       "7   Page B  246.0\n",
       "8   Page A  132.0\n",
       "9   Page B  149.0\n",
       "10  Page A   68.0\n",
       "11  Page B   75.0\n",
       "12  Page A  321.0\n",
       "13  Page B  333.0\n",
       "14  Page A  147.0\n",
       "15  Page B  187.0\n",
       "16  Page A   95.0\n",
       "17  Page B  126.0\n",
       "18  Page A   45.0\n",
       "19  Page B   48.0\n",
       "20  Page A  118.0\n",
       "21  Page B  147.0\n",
       "22  Page A  342.0\n",
       "23  Page B  357.0\n",
       "24  Page A  197.0\n",
       "25  Page B  223.0\n",
       "26  Page A   39.0\n",
       "27  Page B   43.0\n",
       "28  Page A   65.0\n",
       "29  Page B   87.0\n",
       "30  Page A  173.0\n",
       "31  Page A   74.0\n",
       "32  Page A   86.0\n",
       "33  Page A  118.0\n",
       "34  Page A  206.0\n",
       "35  Page A   93.0"
      ]
     },
     "execution_count": 17,
     "metadata": {},
     "output_type": "execute_result"
    }
   ],
   "source": [
    "se_times"
   ]
  },
  {
   "cell_type": "code",
   "execution_count": 13,
   "metadata": {},
   "outputs": [],
   "source": [
    "pa_s = se_times.loc[se_times.Page == \"Page A\"].reset_index().Time"
   ]
  },
  {
   "cell_type": "code",
   "execution_count": 18,
   "metadata": {},
   "outputs": [
    {
     "data": {
      "text/plain": [
       "(21,)"
      ]
     },
     "execution_count": 18,
     "metadata": {},
     "output_type": "execute_result"
    }
   ],
   "source": [
    "pa_s.shape"
   ]
  },
  {
   "cell_type": "code",
   "execution_count": 20,
   "metadata": {},
   "outputs": [
    {
     "name": "stdout",
     "output_type": "stream",
     "text": [
      "<class 'pandas.core.series.Series'>\n",
      "RangeIndex: 21 entries, 0 to 20\n",
      "Series name: Time\n",
      "Non-Null Count  Dtype  \n",
      "--------------  -----  \n",
      "21 non-null     float64\n",
      "dtypes: float64(1)\n",
      "memory usage: 296.0 bytes\n"
     ]
    }
   ],
   "source": [
    "pa_s.info()"
   ]
  },
  {
   "cell_type": "code",
   "execution_count": 14,
   "metadata": {},
   "outputs": [],
   "source": [
    "pb_s = se_times.loc[se_times.Page == \"Page B\"].reset_index().Time"
   ]
  },
  {
   "cell_type": "code",
   "execution_count": 19,
   "metadata": {},
   "outputs": [
    {
     "data": {
      "text/plain": [
       "(15,)"
      ]
     },
     "execution_count": 19,
     "metadata": {},
     "output_type": "execute_result"
    }
   ],
   "source": [
    "pb_s.shape"
   ]
  },
  {
   "cell_type": "code",
   "execution_count": 21,
   "metadata": {},
   "outputs": [
    {
     "name": "stdout",
     "output_type": "stream",
     "text": [
      "<class 'pandas.core.series.Series'>\n",
      "RangeIndex: 21 entries, 0 to 20\n",
      "Series name: Time\n",
      "Non-Null Count  Dtype  \n",
      "--------------  -----  \n",
      "21 non-null     float64\n",
      "dtypes: float64(1)\n",
      "memory usage: 296.0 bytes\n"
     ]
    }
   ],
   "source": [
    "pa_s.info()"
   ]
  },
  {
   "attachments": {},
   "cell_type": "markdown",
   "metadata": {},
   "source": [
    "## 2.&nbsp; State the Null Hypothesis(H0) and the Alternative Hypothesis(H1)"
   ]
  },
  {
   "attachments": {},
   "cell_type": "markdown",
   "metadata": {},
   "source": [
    "- H0 : pa_s and pb_s means are not different (pa_mean-pb_mean = 0)\n",
    "- H1 : pa_s and pb_s means are  different (pa_mean-pb_mean != 0)"
   ]
  },
  {
   "cell_type": "code",
   "execution_count": 23,
   "metadata": {},
   "outputs": [
    {
     "data": {
      "text/plain": [
       "126.33333333333333"
      ]
     },
     "execution_count": 23,
     "metadata": {},
     "output_type": "execute_result"
    }
   ],
   "source": [
    "pa_mean = pa_s.mean()\n",
    "pa_mean"
   ]
  },
  {
   "cell_type": "code",
   "execution_count": 25,
   "metadata": {},
   "outputs": [
    {
     "data": {
      "text/plain": [
       "162.0"
      ]
     },
     "execution_count": 25,
     "metadata": {},
     "output_type": "execute_result"
    }
   ],
   "source": [
    "pb_mean = pb_s.mean()\n",
    "pb_mean"
   ]
  },
  {
   "attachments": {},
   "cell_type": "markdown",
   "metadata": {},
   "source": [
    "## 3.&nbsp; Select an appropriate significance level alpha ($\\alpha$).\n",
    "\n",
    "alpha can vary from 0.1 ,0.05 up to 0.01 (signficance level)\n",
    "Depend on how much certin you want your test result to be \n",
    "Certinity inc --> aplha decrease"
   ]
  },
  {
   "cell_type": "code",
   "execution_count": 26,
   "metadata": {},
   "outputs": [],
   "source": [
    "alpha = 0.1"
   ]
  },
  {
   "attachments": {},
   "cell_type": "markdown",
   "metadata": {},
   "source": [
    "## 4.&nbsp; Consider the statistical assumptions about the set of data.\n",
    "\n",
    "1. The observations in one sample should be independent of the observations in the other sample.\n",
    "2. The data should be approximately normally distributed.\n",
    "3. The two samples should have approximately the same variance. (If this assumption is not met, you should instead perform a Welch’s t-test.)\n",
    "4. The data in both samples was obtained using a random sampling method."
   ]
  },
  {
   "attachments": {},
   "cell_type": "markdown",
   "metadata": {},
   "source": [
    "#### a.&nbsp; The observations in one sample should be independent of the observations in the other sample.\n",
    "#### b.&nbsp; The data in both samples was obtained using a random sampling method."
   ]
  },
  {
   "attachments": {},
   "cell_type": "markdown",
   "metadata": {},
   "source": [
    "This needs to be ensured while collecting the data. At this point, we will assume that the Data were selected randomly, and that thus, their values are independent."
   ]
  },
  {
   "attachments": {},
   "cell_type": "markdown",
   "metadata": {},
   "source": [
    "#### c.&nbsp; The data should be approximately normally distributed."
   ]
  },
  {
   "cell_type": "code",
   "execution_count": 29,
   "metadata": {},
   "outputs": [
    {
     "data": {
      "image/png": "[encoded data removed]",
      "text/plain": [
       "<Figure size 1200x600 with 1 Axes>"
      ]
     },
     "metadata": {},
     "output_type": "display_data"
    }
   ],
   "source": [
    "plt.figure(figsize=(12,6))\n",
    "# Plot a histogram of the plants' heights.\n",
    "ya, xa, _ = plt.hist(pa_s, bins=30, alpha=0.5, label=\"Page A\")\n",
    "yb, xb, _ = plt.hist(pb_s, bins=30, alpha=0.5, label=\"Page B\")\n",
    "# Add a vertical line for the mean of field A.\n",
    "plt.vlines(pa_mean, ymin=0, ymax=max(max(ya), max(yb)), color=\"blue\", label=\"Mean Page A\")\n",
    "# Add a vertical line for the mean of field B.\n",
    "plt.vlines(pb_mean, ymin=0, ymax=max(max(ya), max(yb)), color=\"red\", label=\"Mean Page B\")\n",
    "plt.legend()\n",
    "plt.show()"
   ]
  },
  {
   "attachments": {},
   "cell_type": "markdown",
   "metadata": {},
   "source": [
    "#### d.&nbsp; The two samples should have approximately the same variance.\n",
    "\n",
    "In practice, the variances of the two samples are not equal.\n",
    "For this reason, Welch's test should always be chosen over a 2-sample t-test: it takes the differences between the variances into account, and returns the same result as the 2-sample t-test whenever variances are equal."
   ]
  },
  {
   "cell_type": "code",
   "execution_count": 30,
   "metadata": {},
   "outputs": [
    {
     "data": {
      "text/plain": [
       "7453.079365079366"
      ]
     },
     "execution_count": 30,
     "metadata": {},
     "output_type": "execute_result"
    }
   ],
   "source": [
    "var_a = np.var(pa_s)\n",
    "var_a"
   ]
  },
  {
   "cell_type": "code",
   "execution_count": 31,
   "metadata": {},
   "outputs": [
    {
     "data": {
      "text/plain": [
       "9546.666666666666"
      ]
     },
     "execution_count": 31,
     "metadata": {},
     "output_type": "execute_result"
    }
   ],
   "source": [
    "var_b = np.var(pb_s)\n",
    "var_b"
   ]
  },
  {
   "attachments": {},
   "cell_type": "markdown",
   "metadata": {},
   "source": [
    "## 5.&nbsp; Decide on the appropriate test to use and the associated test statistic.\n",
    "\n"
   ]
  },
  {
   "attachments": {},
   "cell_type": "markdown",
   "metadata": {},
   "source": [
    "![image.png](assistant_hypothesis.gif)"
   ]
  },
  {
   "attachments": {},
   "cell_type": "markdown",
   "metadata": {},
   "source": [
    "In this case 2stt or wechle test"
   ]
  },
  {
   "attachments": {},
   "cell_type": "markdown",
   "metadata": {},
   "source": [
    "## 6.&nbsp; Derive the distribution of the test statistic.\n",
    "The t-score follows a **student's t-distribution with n-1 degrees of freedom**.\n",
    "- Ideally t distributions are tends to be = to normal distribution as n (sample size) gets bigger\n",
    "- n --> smaple size Accepted value starts from 30\n",
    "- ddof --> delta degree of freedom are the number of values that we need to be able to fully control our test statistic (ie smean), in this case we can allow all n value to vary , and we can control only 1 datapoint to be able bring our smean to any valu we want , hence ddof=1\n",
    "- dof --> degree of freedom = n-ddof\n",
    "\n",
    "The conservative approach is to take as n the smaller of the sample sizes."
   ]
  },
  {
   "cell_type": "code",
   "execution_count": 33,
   "metadata": {},
   "outputs": [
    {
     "data": {
      "text/plain": [
       "14"
      ]
     },
     "execution_count": 33,
     "metadata": {},
     "output_type": "execute_result"
    }
   ],
   "source": [
    "n_a = len(pa_s)\n",
    "n_b = len(pb_s)\n",
    "n = min(n_a, n_b)\n",
    "ddof = 1\n",
    "dof = n - 1\n",
    "dof"
   ]
  },
  {
   "cell_type": "code",
   "execution_count": 34,
   "metadata": {},
   "outputs": [
    {
     "data": {
      "image/png": "[encoded data removed]",
      "text/plain": [
       "<Figure size 1200x600 with 1 Axes>"
      ]
     },
     "metadata": {},
     "output_type": "display_data"
    }
   ],
   "source": [
    "plt.figure(figsize=(12,6))\n",
    "# Create a linear space from -5 to 5 with 1000 intervals for our x-axis.\n",
    "xt = np.linspace(-5,5,1000)\n",
    "yf = stats.t.pdf(xt,dof)\n",
    "# Plot t-distributions with different degrees of freedom.\n",
    "plt.plot(xt, yf, label=\"n-1 degrees of freedom\")\n",
    "plt.plot(xt, stats.t.pdf(xt,500), color=\"red\", linestyle=\"dotted\" ,label=\"500 degrees of freedom\")\n",
    "plt.legend()\n",
    "plt.show()"
   ]
  },
  {
   "attachments": {},
   "cell_type": "markdown",
   "metadata": {},
   "source": [
    "## 7.&nbsp; Compute the test statistic using the data set.\n",
    "for 2stt --> \n",
    "$t = \\frac{\\bar{x_1} – \\bar{x_2}} {\\sqrt{\\frac{s^2_1}{n_1} + \\frac{s^2_2}{n_2}}}$"
   ]
  },
  {
   "cell_type": "code",
   "execution_count": 35,
   "metadata": {},
   "outputs": [
    {
     "data": {
      "text/plain": [
       "(88.46317501273246, 101.13640011673063)"
      ]
     },
     "execution_count": 35,
     "metadata": {},
     "output_type": "execute_result"
    }
   ],
   "source": [
    "s_a = pa_s.std(ddof=ddof)\n",
    "s_b = pb_s.std(ddof=ddof)\n",
    "s_a,s_b"
   ]
  },
  {
   "cell_type": "code",
   "execution_count": 36,
   "metadata": {},
   "outputs": [
    {
     "data": {
      "text/plain": [
       "-1.098315562363811"
      ]
     },
     "execution_count": 36,
     "metadata": {},
     "output_type": "execute_result"
    }
   ],
   "source": [
    "tscore = (pa_mean - pb_mean) / np.sqrt((s_a**2 / n_a) + (s_b**2) / n_b)\n",
    "tscore"
   ]
  },
  {
   "attachments": {},
   "cell_type": "markdown",
   "metadata": {},
   "source": [
    "## 8.&nbsp; Derive the critical region associated with the level of alpha.\n",
    "Not too long ago, people used large tables like [this](https://www.statology.org/here-is-how-to-find-the-p-value-from-the-t-distribution-table/) to look up the critical values associated with a certain level of alpha.\n",
    "- if you perform a two-sided test, you need two critical values.Since t-distribution is symmetrical, the same is true for the critical values.The second critical value is thus -ve of the one from the table\n",
    "- if you want the lower tail --> set the Critical values from table to -ve"
   ]
  },
  {
   "cell_type": "code",
   "execution_count": 37,
   "metadata": {},
   "outputs": [],
   "source": [
    "#alpha = 0.1 , twotail, df=14   --> critical value = 1.761\n",
    "crit_val = 1.761"
   ]
  },
  {
   "attachments": {},
   "cell_type": "markdown",
   "metadata": {},
   "source": [
    "## 9.&nbsp; Compare the test statistic with the critical values."
   ]
  },
  {
   "attachments": {},
   "cell_type": "markdown",
   "metadata": {},
   "source": [
    "The test statistic is in the critical region because it is more extreme as the critical value.\n",
    "For this reason, the null Hypothesis will be rejected."
   ]
  },
  {
   "cell_type": "code",
   "execution_count": 51,
   "metadata": {},
   "outputs": [
    {
     "name": "stdout",
     "output_type": "stream",
     "text": [
      "The critical value is larger than t-score. H0 --> Fail to reject\n",
      "Most likely PageB time session are higher with average of 35.67\n"
     ]
    }
   ],
   "source": [
    "if crit_val > tscore:\n",
    "  print(\"The critical value is larger than t-score. H0 --> Fail to reject\")\n",
    "  if(pa_mean > pb_mean):\n",
    "    print(f\"Most likely PageA time session are higher with average of {round(pa_mean - pb_mean,2)}\")\n",
    "  else:\n",
    "    print(f\"Most likely PageB time session are higher with average of {round(pb_mean - pa_mean,2)}\")\n",
    "else:\n",
    "  print(\"The critical value is smaller than t-score. H0 --> rejected\")"
   ]
  },
  {
   "attachments": {},
   "cell_type": "markdown",
   "metadata": {},
   "source": [
    "# II. The coders approach"
   ]
  },
  {
   "cell_type": "code",
   "execution_count": 46,
   "metadata": {},
   "outputs": [],
   "source": [
    "t_score, p_value = stats.ttest_ind(a = pa_s, b = pb_s, alternative='two-sided')"
   ]
  },
  {
   "cell_type": "code",
   "execution_count": 48,
   "metadata": {},
   "outputs": [
    {
     "name": "stdout",
     "output_type": "stream",
     "text": [
      "The p-value is larger than alpha. H0 --> Fail to reject\n",
      "Most likely PageB time session are higher with average of 35.67\n"
     ]
    }
   ],
   "source": [
    "if p_value > alpha:\n",
    "  print(\"The p-value is larger than alpha. H0 --> Fail to reject\")\n",
    "  if(pa_mean > pb_mean):\n",
    "    print(f\"Most likely PageA time session are higher with average of {round(pa_mean - pb_mean,2)}\")\n",
    "  else:\n",
    "    print(f\"Most likely PageB time session are higher with average of {round(pb_mean - pa_mean,2)}\")\n",
    "else:\n",
    "  print(\"The p-value is smaller than alpha. H0 --> rejected\")"
   ]
  },
  {
   "attachments": {},
   "cell_type": "markdown",
   "metadata": {},
   "source": [
    "# III. Visualization"
   ]
  },
  {
   "cell_type": "code",
   "execution_count": 50,
   "metadata": {},
   "outputs": [
    {
     "data": {
      "image/png": "[encoded data removed]",
      "text/plain": [
       "<Figure size 1200x600 with 1 Axes>"
      ]
     },
     "metadata": {},
     "output_type": "display_data"
    }
   ],
   "source": [
    "plt.figure(figsize=(12,6))\n",
    "# Create a linear space from -5 to 5 with 1000 intervals for our x-axis.\n",
    "xt = np.linspace(-5,5,1000)\n",
    "yf = stats.t.pdf(xt,dof)\n",
    "# Plot t-distributions with different degrees of freedom.\n",
    "plt.plot(xt, yf, label=\"t-distribution\")\n",
    "\n",
    "# Shade the area under the curve for values more extreme than +/-crit_val (= alpha).\n",
    "plt.vlines(-crit_val, ymin=0, ymax=max(yf), color=\"blue\", label=\"critical values\")\n",
    "plt.vlines(crit_val, ymin=0, ymax=max(yf), color=\"blue\")\n",
    "plt.fill_between(xt, yf, where=(-crit_val>xt)|(xt>crit_val), color= \"b\", label=\"alpha / critial region\")\n",
    "\n",
    "# Shade the region in the tails that is more extreme than the +/-t-score (= p-value).\n",
    "plt.vlines(tscore, ymin=0, ymax=max(yf), color=\"red\", label=\"t-score\")\n",
    "plt.vlines(-tscore, ymin=0, ymax=max(yf), color=\"red\", label=\"t-score\")\n",
    "plt.fill_between(xt, yf, where=(-abs(t_score)>xt)|(xt>abs(t_score)), color= \"r\", alpha=0.5, label=\"p-value\")\n",
    "\n",
    "\n",
    "plt.legend()\n",
    "plt.show()"
   ]
  }
 ],
 "metadata": {
  "kernelspec": {
   "display_name": "Python 3",
   "language": "python",
   "name": "python3"
  },
  "language_info": {
   "codemirror_mode": {
    "name": "ipython",
    "version": 3
   },
   "file_extension": ".py",
   "mimetype": "text/x-python",
   "name": "python",
   "nbconvert_exporter": "python",
   "pygments_lexer": "ipython3",
   "version": "3.9.1"
  },
  "orig_nbformat": 4,
  "vscode": {
   "interpreter": {
    "hash": "81794d4967e6c3204c66dcd87b604927b115b27c00565d3d43f05ba2f3a2cb0d"
   }
  }
 },
 "nbformat": 4,
 "nbformat_minor": 2
}
